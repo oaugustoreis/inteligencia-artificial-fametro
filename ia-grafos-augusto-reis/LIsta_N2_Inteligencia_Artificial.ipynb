{
  "nbformat": 4,
  "nbformat_minor": 0,
  "metadata": {
    "colab": {
      "provenance": []
    },
    "kernelspec": {
      "name": "python3",
      "display_name": "Python 3"
    },
    "language_info": {
      "name": "python"
    }
  },
  "cells": [
    {
      "cell_type": "markdown",
      "source": [
        "**Lista de Exercícios N2**\n",
        "\n",
        "Tema: Grafos e Algoritmos de Busca (Dijkstra, A*, em-ordem, pré-ordem e pós-ordem)\n",
        "\n",
        "Disciplina: Inteligência Artificial\\\n",
        "Ambiente: Google Colab\\\n",
        "Entrega: via repositório individual no GitHub"
      ],
      "metadata": {
        "id": "51-tDsdpFH9B"
      }
    },
    {
      "cell_type": "markdown",
      "source": [
        "**Nome completo:** Augusto Cesar Simas dos Reis\\\n",
        "**Matricula:** 2139598"
      ],
      "metadata": {
        "id": "-02FfQpMKNEb"
      }
    },
    {
      "cell_type": "markdown",
      "source": [
        "**Regras Gerais**\n",
        "\n",
        "- Trabalho individual.\n",
        "\n",
        "- Linguagem: Python 3 (Google Colab).\n",
        "\n",
        "- É permitido usar: heapq, numpy, matplotlib, dataclasses.\n",
        "\n",
        "- Proibido usar funções prontas de shortest path (networkx.shortest_path, scipy.sparse.csgraph.dijkstra, etc.).\n",
        "\n",
        "O Notebook (.ipynb) deve conter:\n",
        "\n",
        "- Identificação (nome, turma, link do GitHub)\n",
        "\n",
        "- Código, testes e reflexões\n",
        "\n",
        "- Seções organizadas conforme o roteiro abaixo."
      ],
      "metadata": {
        "id": "iJ41FayHF8rV"
      }
    },
    {
      "cell_type": "markdown",
      "source": [
        "**Parte A — Dijkstra (Caminho Mínimo em Grafos Ponderados Positivos)**\n",
        "\n",
        "> Imagine que você está projetando um sistema de navegação para ambulâncias em uma cidade. Cada interseção é representada como um nó e cada rua como uma aresta ponderada com o tempo médio de deslocamento. Você precisa encontrar a rota mais rápida entre o hospital e o local de atendimento, garantindo que o caminho tenha custo mínimo e seja correto mesmo em grandes redes urbanas.\n",
        "\n",
        "**Atividades**\n",
        "\n",
        "- Implemente o algoritmo de Dijkstra, retornando o custo mínimo (dist) e os predecessores (parent).\n",
        "\n",
        "- Crie uma função reconstruct_path(parent, target) que reconstrua o trajeto.\n",
        "\n",
        "Teste o algoritmo em um grafo de exemplo.\n",
        "\n",
        "**Explique (Questões Discursivas):**\n",
        "\n",
        "1. Por que Dijkstra exige arestas não negativas?\n",
        "    - **O algoritmo de Dijkstra supõe que, ao visitar um nó, o caminho encontrado até ele é o mais curto possível naquele momento.\n",
        "Essa suposição só é verdadeira se todas as arestas tiverem peso não negativo.**\n",
        "\n",
        "2. Qual a complexidade do algoritmo com lista de adjacência e heapq?\n",
        "    - **O algoritmo de Dijkstra, quando implementado usando uma lista de adjacência e uma heap (heapq) como fila de prioridade, apresenta uma complexidade eficiente para grafos grandes.**\\\n",
        "💡 Dica: Compare seu resultado com um mapa simples — se mudar o peso de uma rua, a rota muda?"
      ],
      "metadata": {
        "id": "XKYf0iFXGaV1"
      }
    },
    {
      "cell_type": "code",
      "source": [
        "# Insira seu código aqui\n",
        "import heapq\n",
        "\n",
        "def dijkstra(graph, start):\n",
        "    dist = {node: float('inf') for node in graph}\n",
        "    parent = {node: None for node in graph}\n",
        "    dist[start] = 0\n",
        "\n",
        "    pq = [(0, start)]\n",
        "\n",
        "    while pq:\n",
        "        current_dist, current_node = heapq.heappop(pq)\n",
        "\n",
        "        if current_dist > dist[current_node]:\n",
        "            continue\n",
        "\n",
        "        for neighbor, weight in graph[current_node].items():\n",
        "            distance = current_dist + weight\n",
        "\n",
        "            if distance < dist[neighbor]:\n",
        "                dist[neighbor] = distance\n",
        "                parent[neighbor] = current_node\n",
        "                heapq.heappush(pq, (distance, neighbor))\n",
        "\n",
        "    return dist, parent\n",
        "\n",
        "def reconstruct_path(parent, target):\n",
        "      path = []\n",
        "      current = target\n",
        "\n",
        "      while current is not None:\n",
        "          path.append(current)\n",
        "          current = parent[current]\n",
        "\n",
        "      path.reverse()\n",
        "      return path\n",
        "\n",
        "grafo = {\n",
        "    \"Hospital\": {\"A\": 1, \"C\": 9},\n",
        "    \"A\": {\"Hospital\": 3, \"B\": 2, \"C\": 4},\n",
        "    \"B\": {\"A\": 2, \"Local\": 3},\n",
        "    \"C\": {\"Hospital\":1, \"A\": 4, \"Local\": 8},\n",
        "    \"Local\": {\"B\": 3, \"C\": 1},\n",
        "}\n",
        "dist, parent = dijkstra(grafo, \"Hospital\")\n",
        "\n",
        "path = reconstruct_path(parent, \"Local\")\n",
        "\n",
        "print(\"Caminho mais rapido:\", \", \".join(path))\n",
        "print(\"Tempo: \", dist[\"Local\"], \"minutos\")"
      ],
      "metadata": {
        "id": "_7qVHP30FFF5",
        "colab": {
          "base_uri": "https://localhost:8080/"
        },
        "outputId": "fdfd6155-fd1b-4955-c7c0-c74262cbc6db"
      },
      "execution_count": 22,
      "outputs": [
        {
          "output_type": "stream",
          "name": "stdout",
          "text": [
            "Caminho mais rapido: Hospital, A, B, Local\n",
            "Tempo:  6 minutos\n"
          ]
        }
      ]
    },
    {
      "cell_type": "markdown",
      "source": [],
      "metadata": {
        "id": "lZAGP4qeZCnz"
      }
    },
    {
      "cell_type": "code",
      "source": [],
      "metadata": {
        "id": "vKwE6Qo2IBFc"
      },
      "execution_count": null,
      "outputs": []
    },
    {
      "cell_type": "markdown",
      "source": [
        "**Parte B — A-Star (Busca Informada com Heurística Admissível)**\n",
        "\n",
        "> Agora, considere um robô autônomo que deve se deslocar por um labirinto 2D, evitando obstáculos e chegando ao destino no menor tempo possível.\n",
        "Diferente do Dijkstra, o robô pode usar uma heurística (como a distância ao alvo) para priorizar rotas promissoras, economizando tempo de busca.\n",
        "\n",
        "**Atividades**\n",
        "\n",
        "1. Gere um grid 20x20 com ~15% de obstáculos aleatórios.\n",
        "\n",
        "2. Implemente a função heuristic(a, b) (distância Manhattan).\n",
        "\n",
        "3. Desenvolva o algoritmo a_star(grid, start, goal, h) e teste-o.\n",
        "\n",
        "**Explique (Questões Discursivas):**\n",
        "\n",
        "1. A* vs Dijkstra: qual expande menos nós?\n",
        "    - **Se a heurística h(n)h(n) for admissível e consistente, o A* nunca expande mais nós que Dijkstra**\n",
        "\n",
        "2. Por que a heurística Manhattan é admissível nesse caso?\n",
        "    - **A heurística de distância Manhattan é considerada admissível porque ela nunca superestima o custo real mínimo necessário para alcançar o objetivo em um ambiente em grade onde o agente só pode se mover nas direções horizontais e verticais, norte, sul, leste e oeste.**\n",
        "\n",
        "💡 Cenário real: O A* é amplamente usado em robôs aspiradores, drones e jogos. Seu desafio é aplicar o mesmo raciocínio."
      ],
      "metadata": {
        "id": "9vCEA95GGx_6"
      }
    },
    {
      "cell_type": "code",
      "source": [
        "# Insira seu código aqui\n",
        "import random\n",
        "import heapq\n",
        "def gerarGrid(tam=20, obstaculo=0.15):\n",
        "    grid = []\n",
        "    for _ in range(tam):\n",
        "        row = [0 if random.random() > obstaculo else 1 for _ in range(tam)]\n",
        "        grid.append(row)\n",
        "    return grid\n",
        "\n",
        "grid = gerarGrid()\n",
        "def a_star(grid, start, goal, h):\n",
        "    open_set = []\n",
        "    heapq.heappush(open_set, (0 + h(start, goal), 0, start))\n",
        "\n",
        "    parent = {start: None}\n",
        "    g_score = {start: 0}\n",
        "\n",
        "    while open_set:\n",
        "        f, current_g, current = heapq.heappop(open_set)\n",
        "\n",
        "        if current == goal:\n",
        "            path = []\n",
        "            while current:\n",
        "                path.append(current)\n",
        "                current = parent[current]\n",
        "            path.reverse()\n",
        "            return path\n",
        "\n",
        "        x, y = current\n",
        "        for dx, dy in [(-1,0),(1,0),(0,-1),(0,1)]:\n",
        "            nx, ny = x + dx, y + dy\n",
        "            neighbor = (nx, ny)\n",
        "\n",
        "            if 0 <= nx < len(grid) and 0 <= ny < len(grid[0]) and grid[nx][ny] == 0:\n",
        "                tentative_g = current_g + 1\n",
        "                if neighbor not in g_score or tentative_g < g_score[neighbor]:\n",
        "                    g_score[neighbor] = tentative_g\n",
        "                    f_score = tentative_g + h(neighbor, goal)\n",
        "                    heapq.heappush(open_set, (f_score, tentative_g, neighbor))\n",
        "                    parent[neighbor] = current\n",
        "\n",
        "    return None\n",
        "\n",
        "\n",
        "\n",
        "def heuristca(a, b):\n",
        "    return abs(a[0] - b[0]) + abs(a[1] - b[1])\n",
        "\n",
        "start = (0, 0)\n",
        "goal = (19, 19)\n",
        "\n",
        "path = a_star(grid, start, goal, heuristca)\n",
        "\n",
        "if path:\n",
        "    print(\"Caminho encontrado: \", len(path))\n",
        "else:\n",
        "    print(\"Nenhum caminho \")\n",
        "\n"
      ],
      "metadata": {
        "id": "XMIxqCl3FEt6",
        "colab": {
          "base_uri": "https://localhost:8080/"
        },
        "outputId": "ebd01b72-84bd-47d6-b428-f8b7133e2bcc"
      },
      "execution_count": 24,
      "outputs": [
        {
          "output_type": "stream",
          "name": "stdout",
          "text": [
            "Caminho encontrado:  39\n"
          ]
        }
      ]
    },
    {
      "cell_type": "markdown",
      "source": [],
      "metadata": {
        "id": "K2XNaRjJjf1Z"
      }
    },
    {
      "cell_type": "code",
      "source": [],
      "metadata": {
        "id": "zQ1WgmxRFB8N"
      },
      "execution_count": null,
      "outputs": []
    },
    {
      "cell_type": "markdown",
      "source": [
        "**Parte C — Árvores Binárias e Percursos (DFS em-ordem, pré-ordem e pós-ordem)**\n",
        "\n",
        "> Você está desenvolvendo um sistema de recomendação que organiza produtos em uma árvore binária de busca (BST), conforme o preço. Cada nó é um produto e a travessia da árvore pode ser usada para: 1. Ordenar produtos (em-ordem); 2. Clonar a estrutura (pré-ordem); 3. Calcular totais ou liberar memória (pós-ordem);\n",
        "\n",
        "**Atividades**\n",
        "\n",
        "1. Crie uma BST com os valores: [50, 30, 70, 20, 40, 60, 80, 35, 45].\n",
        "\n",
        "Implemente os percursos:\n",
        "\n",
        "1. in_order(root)\n",
        "\n",
        "2. pre_order(root)\n",
        "\n",
        "3. post_order(root)\n",
        "\n",
        "Teste se as saídas correspondem às travessias esperadas.\n",
        "\n",
        "**Explique (Questões Discursivas):**\n",
        "\n",
        "1. Em que situação cada tipo de percurso é mais indicado?\n",
        "    - In-ordem: Ordenar dados (em BST)\n",
        "    - Pré-ordem: Clonar/serializar árvore, processar raiz primeiro\n",
        "    - Pós-ordem: Liberar memória, calcular totais, processar filhos primeiro"
      ],
      "metadata": {
        "id": "qJ1Rbf22IASJ"
      }
    },
    {
      "cell_type": "code",
      "source": [
        "## Insira seu código aqui\n",
        "class Node:\n",
        "    def __init__(self, value):\n",
        "        self.value = value\n",
        "        self.left = None\n",
        "        self.right = None\n",
        "\n",
        "def insert(root, value):\n",
        "    if root is None:\n",
        "        return Node(value)\n",
        "    if value < root.value:\n",
        "        root.left = insert(root.left, value)\n",
        "    else:\n",
        "        root.right = insert(root.right, value)\n",
        "    return root\n",
        "\n",
        "values = [50, 30, 70, 20, 40, 60, 80, 35, 45]\n",
        "root = None\n",
        "\n",
        "for val in values:\n",
        "    root = insert(root, val)\n",
        "\n",
        "def in_order(root):\n",
        "    if root:\n",
        "        in_order(root.left)\n",
        "        print(root.value, end=\", \")\n",
        "        in_order(root.right)\n",
        "\n",
        "def pre_order(root):\n",
        "    if root:\n",
        "        print(root.value, end=\", \")\n",
        "        pre_order(root.left)\n",
        "        pre_order(root.right)\n",
        "\n",
        "def post_order(root):\n",
        "    if root:\n",
        "        post_order(root.left)\n",
        "        post_order(root.right)\n",
        "        print(root.value, end=\", \")\n",
        "\n",
        "print(\"in_order()\" )\n",
        "in_order(root)\n",
        "print(\"\\n-------------\")\n",
        "print(\"pre_order()\")\n",
        "pre_order(root)\n",
        "print(\"\\n-------------\")\n",
        "print(\"port_order()\")\n",
        "post_order(root)\n"
      ],
      "metadata": {
        "id": "jxol5GNCIrM9",
        "colab": {
          "base_uri": "https://localhost:8080/"
        },
        "outputId": "f9e3f9ff-fcd2-4ecb-946c-2cb72a4b27d6"
      },
      "execution_count": 25,
      "outputs": [
        {
          "output_type": "stream",
          "name": "stdout",
          "text": [
            "in_order()\n",
            "20, 30, 35, 40, 45, 50, 60, 70, 80, \n",
            "-------------\n",
            "pre_order()\n",
            "50, 30, 20, 40, 35, 45, 70, 60, 80, \n",
            "-------------\n",
            "port_order()\n",
            "20, 35, 45, 40, 30, 60, 80, 70, 50, "
          ]
        }
      ]
    },
    {
      "cell_type": "code",
      "source": [],
      "metadata": {
        "id": "6eP76jYWItEK"
      },
      "execution_count": null,
      "outputs": []
    },
    {
      "cell_type": "markdown",
      "source": [
        "**Parte D — Reflexões (Respostas Curtas)**\n",
        "\n",
        "Responda de forma argumentativa (5–10 linhas cada):\n",
        "\n",
        "1. Quando não é vantajoso usar A*, mesmo tendo uma heurística?\n",
        "    - Embora o A* seja eficiente ao usar heurísticas informadas, ele pode se tornar desvantajoso quando o espaço de busca é muito grande ou quando a heurística é difícil de calcular ou pouco precisa. Nesses casos, o custo de computar a heurística a cada nó pode superar os ganhos em eficiência. Por exemplo, em um mapa de cidade muito grande com milhares de ruas e interseções, usar A* com uma heurística complexa de tráfego em tempo real pode ser mais lento que um algoritmo de busca cega simples, como BFS em um caminho curto, pois o tempo gasto avaliando heurísticas supera a economia de nós visitados. Além disso, se a heurística subestima muito o custo real, o A* se aproxima do comportamento do Dijkstra, perdendo a vantagem.\n",
        "\n",
        "\n",
        "\n",
        "2. Diferencie corretude e otimalidade nos algoritmos estudados.\n",
        "    - Corretude refere-se a um algoritmo sempre produzir uma solução válida quando existe uma; ele nunca gera respostas inválidas. Já a otimalidade significa que o algoritmo encontra a melhor solução possível de acordo com algum critério, como custo mínimo ou caminho mais curto. Por exemplo, o BFS é correto para encontrar caminhos em grafos não ponderados e é ótimo no sentido de encontrar o caminho com menor número de passos. O DFS, por outro lado, é correto se a solução existir, mas não é necessariamente ótimo, pois pode encontrar caminhos mais longos primeiro.\n",
        "\n",
        "\n",
        "3. Dê um exemplo do mundo real onde cada tipo de percurso (em, pré, pós) é essencial.\n",
        "    - In-ordem: Em uma BST de preços de produtos de um e-commerce, o in-ordem permite listar produtos do mais barato ao mais caro, essencial para filtros de busca por preço.\n",
        "\n",
        "    - Pré-ordem: Ao salvar ou clonar uma estrutura de árvore sintática em compiladores, o pré-ordem preserva a hierarquia dos nós, permitindo reconstruir exatamente a árvore original.\n",
        "\n",
        "    - Pós-ordem: Em sistemas de arquivos ou jogos, ao liberar memória de estruturas hierárquicas, é necessário processar primeiro os filhos antes da raiz, evitando erros de referência.\n",
        "\n",
        "4. Como heurísticas inconsistentes podem afetar o resultado do A*?\n",
        "    - Heurísticas inconsistentes podem fazer com que o A* reavalie o mesmo nó várias vezes, aumentando o número de expansões e tornando a busca menos eficiente. Em casos extremos, o algoritmo pode não garantir a otimalidade, encontrando caminhos subótimos. Por exemplo, em um jogo de labirinto, se a heurística de distância até a saída subestima em um ponto e superestima logo após, o A* pode seguir caminhos desnecessários e revisitar posições, atrasando a solução.\n",
        "\n",
        "💬 Sugestão: use exemplos de mapas, jogos, sistemas de busca ou árvores sintáticas."
      ],
      "metadata": {
        "id": "5bocfC3rIuwu"
      }
    },
    {
      "cell_type": "markdown",
      "source": [
        "Insira suas respostas aqui"
      ],
      "metadata": {
        "id": "8W_afmXGI6h3"
      }
    },
    {
      "cell_type": "code",
      "source": [],
      "metadata": {
        "id": "Vo_E3Z3AI40h"
      },
      "execution_count": null,
      "outputs": []
    },
    {
      "cell_type": "markdown",
      "source": [
        "**Entrega**\n",
        "\n",
        "Crie um repositório público chamado ia-grafos-seu-nome.\n",
        "\n",
        "Envie para o repositório o arquivo ia_grafos_buscas.ipynb.\n",
        "\n",
        "Submeta o link do repositório no ambiente da disciplina **Portal Digital Fametro.**."
      ],
      "metadata": {
        "id": "vyWiRE5TJEUf"
      }
    },
    {
      "cell_type": "markdown",
      "source": [
        "**Integridade Acadêmica**\n",
        "\n",
        "1. O trabalho é individual.\n",
        "2. Discussões conceituais são permitidas, mas o código deve ser inteiramente autoral.\n",
        "3. Verificações de similaridade serão aplicadas a todas as submissões.\n",
        "4. Busque e estude os algoritmos através de pesquisas na internet, livros, slides da disciplina."
      ],
      "metadata": {
        "id": "xP1stx7fJcCV"
      }
    },
    {
      "cell_type": "code",
      "source": [],
      "metadata": {
        "id": "uxmWR_KlJXDC"
      },
      "execution_count": null,
      "outputs": []
    }
  ]
}